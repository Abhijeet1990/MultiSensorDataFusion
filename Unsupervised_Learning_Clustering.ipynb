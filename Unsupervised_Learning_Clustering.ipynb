{
 "cells": [
  {
   "cell_type": "code",
   "execution_count": 1,
   "metadata": {},
   "outputs": [],
   "source": [
    "%matplotlib inline\n",
    "import pandas as pd\n",
    "import numpy as np\n",
    "usecase='UC4'\n",
    "os=5\n",
    "poll_rate = 60\n",
    "location = 'DS'\n",
    "common_path = '../data/'\n",
    "if os==10 and poll_rate ==60 and usecase=='UC1':\n",
    "    path='csvs/UC1/'+location+'_merged_phy_cyb_10os_60poll_encoded.csv'\n",
    "    adv_path='Adversary/UC1_PyDNP3_CORE_Adversary_10_OS_60_dnp3.json'\n",
    "elif os==10 and poll_rate ==30 and usecase=='UC1':\n",
    "    path='csvs/UC1/'+location+'_merged_phy_cyb_10os_30poll_encoded.csv'\n",
    "    adv_path='Adversary/UC1_PyDNP3_CORE_Adversary_10_OS_30_dnp3.json'\n",
    "elif os==5 and poll_rate ==30 and usecase=='UC2':\n",
    "    path='csvs/UC2/uc2_'+location+'_merged_phy_cyb_5os_30poll_encoded.csv'\n",
    "    adv_path='Adversary/UC2_PyDNP3_CORE_Adversary_5_OS_30_dnp3.json'\n",
    "elif os==5 and poll_rate ==60 and usecase=='UC2':\n",
    "    path='csvs/UC2/uc2_'+location+'_merged_phy_cyb_5os_60poll_encoded.csv'\n",
    "    adv_path='Adversary/UC2_PyDNP3_CORE_Adversary_5_OS_60_dnp3.json'\n",
    "elif os==10 and poll_rate ==30 and usecase=='UC2':\n",
    "    path='csvs/UC2/uc2_'+location+'_merged_phy_cyb_10os_30poll_encoded.csv'\n",
    "    adv_path='Adversary/UC2_PyDNP3_CORE_Adversary_10_OS_30_dnp3.json'\n",
    "elif os==10 and poll_rate ==60 and usecase=='UC2':\n",
    "    path='csvs/UC2/uc2_'+location+'_merged_phy_cyb_10os_60poll_encoded.csv'\n",
    "    adv_path='Adversary/UC2_PyDNP3_CORE_Adversary_10_OS_60_dnp3.json'\n",
    "elif os==5 and poll_rate ==30 and usecase=='UC3':\n",
    "    path='csvs/UC3/uc3_'+location+'_merged_phy_cyb_5os_30poll_encoded.csv'\n",
    "    adv_path='Adversary/UC3_PyDNP3_CORE_Adversary_5_OS_30_dnp3.json'\n",
    "elif os==5 and poll_rate ==60 and usecase=='UC3':\n",
    "    path='csvs/UC3/uc3_'+location+'_merged_phy_cyb_5os_60poll_encoded.csv'\n",
    "    adv_path='Adversary/UC3_PyDNP3_CORE_Adversary_5_OS_60_dnp3.json'\n",
    "elif os==10 and poll_rate ==30 and usecase=='UC3':\n",
    "    path='csvs/UC3/uc3_'+location+'_merged_phy_cyb_10os_30poll_encoded.csv'\n",
    "    adv_path='Adversary/UC3_PyDNP3_CORE_Adversary_10_OS_30_dnp3.json'\n",
    "elif os==10 and poll_rate ==60 and usecase=='UC3':\n",
    "    path='csvs/UC3/uc3_'+location+'_merged_phy_cyb_10os_60poll_encoded.csv'\n",
    "    adv_path='Adversary/UC3_PyDNP3_CORE_Adversary_10_OS_60_dnp3.json'\n",
    "elif os==5 and poll_rate ==30 and usecase=='UC4':\n",
    "    path='csvs/UC4/uc4_'+location+'_merged_phy_cyb_5os_30poll_encoded.csv'\n",
    "    adv_path='Adversary/UC4_PyDNP3_CORE_Adversary_5_OS_30_dnp3.json'\n",
    "elif os==5 and poll_rate ==60 and usecase=='UC4':\n",
    "    path='csvs/UC4/uc4_'+location+'_merged_phy_cyb_5os_60poll_encoded.csv'\n",
    "    adv_path='Adversary/UC4_PyDNP3_CORE_Adversary_5_OS_60_dnp3.json'\n",
    "elif os==10 and poll_rate ==30 and usecase=='UC4':\n",
    "    path='csvs/UC4/uc4_'+location+'_merged_phy_cyb_10os_30poll_encoded.csv'\n",
    "    adv_path='Adversary/UC4_PyDNP3_CORE_Adversary_10_OS_30_dnp3.json'\n",
    "elif os==10 and poll_rate ==60 and usecase=='UC4':\n",
    "    path='csvs/UC4/uc4_'+location+'_merged_phy_cyb_10os_60poll_encoded.csv'\n",
    "    adv_path='Adversary/UC4_PyDNP3_CORE_Adversary_10_OS_60_dnp3.json'\n",
    "path = common_path + path\n",
    "adv_path = common_path + adv_path\n"
   ]
  },
  {
   "cell_type": "code",
   "execution_count": 2,
   "metadata": {},
   "outputs": [],
   "source": [
    "from DataFusion import DataFusion\n",
    "import time\n",
    "import datetime\n",
    "def get_intrusion_window(adversary_path):\n",
    "    fusion = DataFusion()\n",
    "    fusion.load_json(adversary_path)\n",
    "    fusion.extract_cyber_data()\n",
    "    fusion.extract_physical_data()\n",
    "    data_to_process = fusion.merge()\n",
    "    attack_start = data_to_process.iloc[0]['Time']\n",
    "    start = int(time.mktime(attack_start.timetuple()))\n",
    "    attack_end = data_to_process.iloc[-1]['Time']\n",
    "    end = int(time.mktime(attack_end.timetuple()))\n",
    "    return start,end\n",
    "    "
   ]
  },
  {
   "cell_type": "code",
   "execution_count": 3,
   "metadata": {},
   "outputs": [],
   "source": [
    "start_time,end_time = get_intrusion_window(adv_path)"
   ]
  },
  {
   "cell_type": "code",
   "execution_count": 4,
   "metadata": {},
   "outputs": [
    {
     "name": "stderr",
     "output_type": "stream",
     "text": [
      "/opt/conda/lib/python3.7/site-packages/ipykernel_launcher.py:21: SettingWithCopyWarning: \n",
      "A value is trying to be set on a copy of a slice from a DataFrame\n",
      "\n",
      "See the caveats in the documentation: https://pandas.pydata.org/pandas-docs/stable/user_guide/indexing.html#returning-a-view-versus-a-copy\n"
     ]
    }
   ],
   "source": [
    "data = pd.read_csv(path)\n",
    "\n",
    "\n",
    "#data.drop('Unnamed:0',1)\n",
    "data = data.drop(data.columns[[0]], axis=1)\n",
    "data['DNP3 Objects'].replace('None', np.nan, inplace=True)\n",
    "\n",
    "replace_map = dict([('DNP3 Objects',0),('value1', 0.0), ('value2', 0.0), ('value3', 0.0), \n",
    "               ('value4', 0.0),('value5',0.0)])\n",
    "\n",
    "# fill nan by replace values\n",
    "data = data.fillna(value=replace_map)\n",
    "data.head()\n",
    "\n",
    "data['Time'] = pd.to_datetime(data['Time'])\n",
    "\n",
    "data['Label'] = 0\n",
    "for i,val in data.iterrows():\n",
    "    unix_time = int(time.mktime(val['Time'].timetuple()))\n",
    "    if unix_time <end_time and unix_time>start_time:\n",
    "        data['Label'][i] = 1\n"
   ]
  },
  {
   "cell_type": "code",
   "execution_count": 5,
   "metadata": {},
   "outputs": [
    {
     "data": {
      "text/html": [
       "<div>\n",
       "<style scoped>\n",
       "    .dataframe tbody tr th:only-of-type {\n",
       "        vertical-align: middle;\n",
       "    }\n",
       "\n",
       "    .dataframe tbody tr th {\n",
       "        vertical-align: top;\n",
       "    }\n",
       "\n",
       "    .dataframe thead th {\n",
       "        text-align: right;\n",
       "    }\n",
       "</style>\n",
       "<table border=\"1\" class=\"dataframe\">\n",
       "  <thead>\n",
       "    <tr style=\"text-align: right;\">\n",
       "      <th></th>\n",
       "      <th>frame_len</th>\n",
       "      <th>frame_protocols</th>\n",
       "      <th>eth_src</th>\n",
       "      <th>eth_dst</th>\n",
       "      <th>ip_src</th>\n",
       "      <th>ip_dst</th>\n",
       "      <th>ip_len</th>\n",
       "      <th>ip_flags</th>\n",
       "      <th>tcp_srcport</th>\n",
       "      <th>tcp_dstport</th>\n",
       "      <th>...</th>\n",
       "      <th>TL_dnp3_tr_ctl</th>\n",
       "      <th>AL_dnp3_al_func</th>\n",
       "      <th>AL_dnp3_al_ctl</th>\n",
       "      <th>AL_dnp3_obj</th>\n",
       "      <th>DNP3 Object Count</th>\n",
       "      <th>DNP3 Objects</th>\n",
       "      <th>AL_Payload</th>\n",
       "      <th>value1</th>\n",
       "      <th>value2</th>\n",
       "      <th>value3</th>\n",
       "    </tr>\n",
       "  </thead>\n",
       "  <tbody>\n",
       "    <tr>\n",
       "      <th>0</th>\n",
       "      <td>42</td>\n",
       "      <td>0</td>\n",
       "      <td>2</td>\n",
       "      <td>3</td>\n",
       "      <td>0</td>\n",
       "      <td>0</td>\n",
       "      <td>0</td>\n",
       "      <td>0</td>\n",
       "      <td>0</td>\n",
       "      <td>0</td>\n",
       "      <td>...</td>\n",
       "      <td>0</td>\n",
       "      <td>129</td>\n",
       "      <td>9</td>\n",
       "      <td>1</td>\n",
       "      <td>42</td>\n",
       "      <td>1</td>\n",
       "      <td>13</td>\n",
       "      <td>0.0000</td>\n",
       "      <td>0.0000</td>\n",
       "      <td>1350.5500</td>\n",
       "    </tr>\n",
       "    <tr>\n",
       "      <th>1</th>\n",
       "      <td>42</td>\n",
       "      <td>0</td>\n",
       "      <td>2</td>\n",
       "      <td>3</td>\n",
       "      <td>0</td>\n",
       "      <td>0</td>\n",
       "      <td>0</td>\n",
       "      <td>0</td>\n",
       "      <td>0</td>\n",
       "      <td>0</td>\n",
       "      <td>...</td>\n",
       "      <td>0</td>\n",
       "      <td>129</td>\n",
       "      <td>3</td>\n",
       "      <td>1</td>\n",
       "      <td>38</td>\n",
       "      <td>1</td>\n",
       "      <td>60</td>\n",
       "      <td>0.0000</td>\n",
       "      <td>0.0000</td>\n",
       "      <td>1350.5500</td>\n",
       "    </tr>\n",
       "    <tr>\n",
       "      <th>2</th>\n",
       "      <td>42</td>\n",
       "      <td>0</td>\n",
       "      <td>2</td>\n",
       "      <td>3</td>\n",
       "      <td>0</td>\n",
       "      <td>0</td>\n",
       "      <td>0</td>\n",
       "      <td>0</td>\n",
       "      <td>0</td>\n",
       "      <td>0</td>\n",
       "      <td>...</td>\n",
       "      <td>0</td>\n",
       "      <td>129</td>\n",
       "      <td>5</td>\n",
       "      <td>2</td>\n",
       "      <td>32</td>\n",
       "      <td>255</td>\n",
       "      <td>41</td>\n",
       "      <td>-56.2576</td>\n",
       "      <td>0.0000</td>\n",
       "      <td>1350.5500</td>\n",
       "    </tr>\n",
       "    <tr>\n",
       "      <th>3</th>\n",
       "      <td>60</td>\n",
       "      <td>0</td>\n",
       "      <td>0</td>\n",
       "      <td>3</td>\n",
       "      <td>0</td>\n",
       "      <td>0</td>\n",
       "      <td>0</td>\n",
       "      <td>0</td>\n",
       "      <td>0</td>\n",
       "      <td>0</td>\n",
       "      <td>...</td>\n",
       "      <td>0</td>\n",
       "      <td>129</td>\n",
       "      <td>14</td>\n",
       "      <td>1</td>\n",
       "      <td>55</td>\n",
       "      <td>2</td>\n",
       "      <td>30</td>\n",
       "      <td>-56.2576</td>\n",
       "      <td>79.8732</td>\n",
       "      <td>1350.5500</td>\n",
       "    </tr>\n",
       "    <tr>\n",
       "      <th>4</th>\n",
       "      <td>60</td>\n",
       "      <td>0</td>\n",
       "      <td>0</td>\n",
       "      <td>3</td>\n",
       "      <td>0</td>\n",
       "      <td>0</td>\n",
       "      <td>0</td>\n",
       "      <td>0</td>\n",
       "      <td>0</td>\n",
       "      <td>0</td>\n",
       "      <td>...</td>\n",
       "      <td>0</td>\n",
       "      <td>129</td>\n",
       "      <td>4</td>\n",
       "      <td>0</td>\n",
       "      <td>1</td>\n",
       "      <td>1200</td>\n",
       "      <td>2</td>\n",
       "      <td>-56.2576</td>\n",
       "      <td>79.8732</td>\n",
       "      <td>1350.5500</td>\n",
       "    </tr>\n",
       "    <tr>\n",
       "      <th>...</th>\n",
       "      <td>...</td>\n",
       "      <td>...</td>\n",
       "      <td>...</td>\n",
       "      <td>...</td>\n",
       "      <td>...</td>\n",
       "      <td>...</td>\n",
       "      <td>...</td>\n",
       "      <td>...</td>\n",
       "      <td>...</td>\n",
       "      <td>...</td>\n",
       "      <td>...</td>\n",
       "      <td>...</td>\n",
       "      <td>...</td>\n",
       "      <td>...</td>\n",
       "      <td>...</td>\n",
       "      <td>...</td>\n",
       "      <td>...</td>\n",
       "      <td>...</td>\n",
       "      <td>...</td>\n",
       "      <td>...</td>\n",
       "      <td>...</td>\n",
       "    </tr>\n",
       "    <tr>\n",
       "      <th>77</th>\n",
       "      <td>42</td>\n",
       "      <td>0</td>\n",
       "      <td>2</td>\n",
       "      <td>3</td>\n",
       "      <td>0</td>\n",
       "      <td>0</td>\n",
       "      <td>0</td>\n",
       "      <td>0</td>\n",
       "      <td>0</td>\n",
       "      <td>0</td>\n",
       "      <td>...</td>\n",
       "      <td>0</td>\n",
       "      <td>129</td>\n",
       "      <td>7</td>\n",
       "      <td>3</td>\n",
       "      <td>1</td>\n",
       "      <td>1</td>\n",
       "      <td>65</td>\n",
       "      <td>43.5386</td>\n",
       "      <td>34.7259</td>\n",
       "      <td>43.4815</td>\n",
       "    </tr>\n",
       "    <tr>\n",
       "      <th>78</th>\n",
       "      <td>42</td>\n",
       "      <td>0</td>\n",
       "      <td>2</td>\n",
       "      <td>3</td>\n",
       "      <td>0</td>\n",
       "      <td>0</td>\n",
       "      <td>0</td>\n",
       "      <td>0</td>\n",
       "      <td>0</td>\n",
       "      <td>0</td>\n",
       "      <td>...</td>\n",
       "      <td>0</td>\n",
       "      <td>129</td>\n",
       "      <td>14</td>\n",
       "      <td>1</td>\n",
       "      <td>55</td>\n",
       "      <td>2</td>\n",
       "      <td>28</td>\n",
       "      <td>43.5386</td>\n",
       "      <td>34.7259</td>\n",
       "      <td>43.4815</td>\n",
       "    </tr>\n",
       "    <tr>\n",
       "      <th>79</th>\n",
       "      <td>42</td>\n",
       "      <td>0</td>\n",
       "      <td>2</td>\n",
       "      <td>3</td>\n",
       "      <td>0</td>\n",
       "      <td>0</td>\n",
       "      <td>0</td>\n",
       "      <td>0</td>\n",
       "      <td>0</td>\n",
       "      <td>0</td>\n",
       "      <td>...</td>\n",
       "      <td>0</td>\n",
       "      <td>129</td>\n",
       "      <td>14</td>\n",
       "      <td>2</td>\n",
       "      <td>32</td>\n",
       "      <td>255</td>\n",
       "      <td>42</td>\n",
       "      <td>43.5386</td>\n",
       "      <td>0.0000</td>\n",
       "      <td>43.4815</td>\n",
       "    </tr>\n",
       "    <tr>\n",
       "      <th>80</th>\n",
       "      <td>42</td>\n",
       "      <td>0</td>\n",
       "      <td>2</td>\n",
       "      <td>3</td>\n",
       "      <td>0</td>\n",
       "      <td>0</td>\n",
       "      <td>0</td>\n",
       "      <td>0</td>\n",
       "      <td>0</td>\n",
       "      <td>0</td>\n",
       "      <td>...</td>\n",
       "      <td>0</td>\n",
       "      <td>129</td>\n",
       "      <td>8</td>\n",
       "      <td>1</td>\n",
       "      <td>38</td>\n",
       "      <td>1</td>\n",
       "      <td>58</td>\n",
       "      <td>0.0000</td>\n",
       "      <td>0.0000</td>\n",
       "      <td>43.4815</td>\n",
       "    </tr>\n",
       "    <tr>\n",
       "      <th>81</th>\n",
       "      <td>42</td>\n",
       "      <td>0</td>\n",
       "      <td>2</td>\n",
       "      <td>3</td>\n",
       "      <td>0</td>\n",
       "      <td>0</td>\n",
       "      <td>0</td>\n",
       "      <td>0</td>\n",
       "      <td>0</td>\n",
       "      <td>0</td>\n",
       "      <td>...</td>\n",
       "      <td>0</td>\n",
       "      <td>129</td>\n",
       "      <td>11</td>\n",
       "      <td>1</td>\n",
       "      <td>42</td>\n",
       "      <td>1</td>\n",
       "      <td>12</td>\n",
       "      <td>0.0000</td>\n",
       "      <td>0.0000</td>\n",
       "      <td>43.4815</td>\n",
       "    </tr>\n",
       "  </tbody>\n",
       "</table>\n",
       "<p>82 rows × 31 columns</p>\n",
       "</div>"
      ],
      "text/plain": [
       "    frame_len  frame_protocols  eth_src  eth_dst  ip_src  ip_dst  ip_len  \\\n",
       "0          42                0        2        3       0       0       0   \n",
       "1          42                0        2        3       0       0       0   \n",
       "2          42                0        2        3       0       0       0   \n",
       "3          60                0        0        3       0       0       0   \n",
       "4          60                0        0        3       0       0       0   \n",
       "..        ...              ...      ...      ...     ...     ...     ...   \n",
       "77         42                0        2        3       0       0       0   \n",
       "78         42                0        2        3       0       0       0   \n",
       "79         42                0        2        3       0       0       0   \n",
       "80         42                0        2        3       0       0       0   \n",
       "81         42                0        2        3       0       0       0   \n",
       "\n",
       "    ip_flags  tcp_srcport  tcp_dstport  ...  TL_dnp3_tr_ctl  AL_dnp3_al_func  \\\n",
       "0          0            0            0  ...               0              129   \n",
       "1          0            0            0  ...               0              129   \n",
       "2          0            0            0  ...               0              129   \n",
       "3          0            0            0  ...               0              129   \n",
       "4          0            0            0  ...               0              129   \n",
       "..       ...          ...          ...  ...             ...              ...   \n",
       "77         0            0            0  ...               0              129   \n",
       "78         0            0            0  ...               0              129   \n",
       "79         0            0            0  ...               0              129   \n",
       "80         0            0            0  ...               0              129   \n",
       "81         0            0            0  ...               0              129   \n",
       "\n",
       "    AL_dnp3_al_ctl  AL_dnp3_obj  DNP3 Object Count  DNP3 Objects  AL_Payload  \\\n",
       "0                9            1                 42             1          13   \n",
       "1                3            1                 38             1          60   \n",
       "2                5            2                 32           255          41   \n",
       "3               14            1                 55             2          30   \n",
       "4                4            0                  1          1200           2   \n",
       "..             ...          ...                ...           ...         ...   \n",
       "77               7            3                  1             1          65   \n",
       "78              14            1                 55             2          28   \n",
       "79              14            2                 32           255          42   \n",
       "80               8            1                 38             1          58   \n",
       "81              11            1                 42             1          12   \n",
       "\n",
       "     value1   value2     value3  \n",
       "0    0.0000   0.0000  1350.5500  \n",
       "1    0.0000   0.0000  1350.5500  \n",
       "2  -56.2576   0.0000  1350.5500  \n",
       "3  -56.2576  79.8732  1350.5500  \n",
       "4  -56.2576  79.8732  1350.5500  \n",
       "..      ...      ...        ...  \n",
       "77  43.5386  34.7259    43.4815  \n",
       "78  43.5386  34.7259    43.4815  \n",
       "79  43.5386   0.0000    43.4815  \n",
       "80   0.0000   0.0000    43.4815  \n",
       "81   0.0000   0.0000    43.4815  \n",
       "\n",
       "[82 rows x 31 columns]"
      ]
     },
     "execution_count": 5,
     "metadata": {},
     "output_type": "execute_result"
    }
   ],
   "source": [
    "# compute the feature table\n",
    "feature_table = data.drop(columns=['Time', 'snort_alert', 'snort_alert_type','Label'])\n",
    "#feature_table = data[['value1','value2','value3','value4']]\n",
    "feature_table"
   ]
  },
  {
   "cell_type": "code",
   "execution_count": 6,
   "metadata": {},
   "outputs": [
    {
     "name": "stdout",
     "output_type": "stream",
     "text": [
      "[1 1 1 1 1 1 1 1 1 1 1 1 1 1 1 1 1 1 1 2 1 1 1 1 1 1 1 1 1 1 0 1 0 1 1 1 1\n",
      " 1 1 2 1 0 1 1 1 1 0 1 1 1 2 2 2 2 1 1 1 2 1 2 1 1 0 1 1 2 1 1 1 1 2 2 1 1\n",
      " 2 1 0 1 1 1 1 1]\n",
      "[1 1 1 1 0 1 0 1 1 0 2 1 1 1 1 1 1 1 1 1 0 2 0 2 1 1 0 2 0 2 1 0 2 0 2 1 1\n",
      " 1 1 1 0 2 0 1 0 2 1 0 2 1 1 1 1 1 0 2 1 1 1 1 1 0 2 1 1 1 0 2 0 2 1 1 1 0\n",
      " 2 0 2 1 1 1 1 1]\n"
     ]
    }
   ],
   "source": [
    "label_array = data[['snort_alert_type']].to_numpy().flatten()\n",
    "print(label_array)\n",
    "\n",
    "from sklearn.preprocessing import StandardScaler\n",
    "scaler = StandardScaler()\n",
    "X_scaled = scaler.fit_transform(feature_table)\n",
    "\n",
    "from sklearn.cluster import AgglomerativeClustering\n",
    "agglo_cluster= AgglomerativeClustering(n_clusters=3, linkage='ward').fit_predict(X_scaled)\n",
    "print(agglo_cluster)\n"
   ]
  },
  {
   "cell_type": "code",
   "execution_count": 7,
   "metadata": {},
   "outputs": [
    {
     "data": {
      "text/plain": [
       "0.50053150593723"
      ]
     },
     "execution_count": 7,
     "metadata": {},
     "output_type": "execute_result"
    }
   ],
   "source": [
    "from sklearn import metrics\n",
    "#metrics.adjusted_rand_score(agglo_cluster, label_array)\n",
    "metrics.fowlkes_mallows_score(agglo_cluster, label_array)"
   ]
  },
  {
   "cell_type": "code",
   "execution_count": 8,
   "metadata": {},
   "outputs": [],
   "source": [
    "from sklearn.preprocessing import StandardScaler\n",
    "scaler = StandardScaler()\n",
    "X_scaled = scaler.fit_transform(feature_table)"
   ]
  },
  {
   "cell_type": "code",
   "execution_count": 9,
   "metadata": {},
   "outputs": [
    {
     "data": {
      "image/png": "[encoded data removed]",
      "text/plain": [
       "<Figure size 432x288 with 1 Axes>"
      ]
     },
     "metadata": {
      "needs_background": "light"
     },
     "output_type": "display_data"
    }
   ],
   "source": [
    "#This scaled data can then be fed into the HAC algorithm\n",
    "from sklearn.cluster import AgglomerativeClustering\n",
    "agglo_cluster= AgglomerativeClustering(distance_threshold=0, n_clusters=None).fit(X_scaled)\n",
    "agglo_cluster.labels_\n",
    "\n",
    "from scipy.cluster.hierarchy import dendrogram\n",
    "\n",
    "def plot_dendrogram(model, **kwargs):\n",
    "    # Create linkage matrix and then plot the dendrogram\n",
    "\n",
    "    # create the counts of samples under each node\n",
    "    counts = np.zeros(model.children_.shape[0])\n",
    "    n_samples = len(model.labels_)\n",
    "    for i, merge in enumerate(model.children_):\n",
    "        current_count = 0\n",
    "        for child_idx in merge:\n",
    "            if child_idx < n_samples:\n",
    "                current_count += 1  # leaf node\n",
    "            else:\n",
    "                current_count += counts[child_idx - n_samples]\n",
    "        counts[i] = current_count\n",
    "\n",
    "    linkage_matrix = np.column_stack([model.children_, model.distances_,\n",
    "                                      counts]).astype(float)\n",
    "\n",
    "    # Plot the corresponding dendrogram\n",
    "    dendrogram(linkage_matrix, **kwargs)\n",
    "    \n",
    "# plot the top three levels of the dendrogram\n",
    "plot_dendrogram(agglo_cluster, truncate_mode='level', p=3)\n",
    "    \n",
    "\n"
   ]
  },
  {
   "cell_type": "code",
   "execution_count": 10,
   "metadata": {},
   "outputs": [],
   "source": [
    "# Normalizing the data so that the data approximately  \n",
    "# follows a Gaussian distribution \n",
    "from sklearn.preprocessing import normalize \n",
    "X_normalized = normalize(X_scaled) \n",
    "  \n",
    "# Converting the numpy array into a pandas DataFrame \n",
    "X_normalized = pd.DataFrame(X_normalized) "
   ]
  },
  {
   "cell_type": "code",
   "execution_count": 11,
   "metadata": {},
   "outputs": [],
   "source": [
    "from sklearn.decomposition import PCA \n",
    "pca = PCA(n_components = 2) \n",
    "X_principal = pca.fit_transform(X_normalized) \n",
    "X_principal = pd.DataFrame(X_principal) \n",
    "X_principal.columns = ['P1', 'P2'] "
   ]
  },
  {
   "cell_type": "code",
   "execution_count": 12,
   "metadata": {},
   "outputs": [
    {
     "data": {
      "text/html": [
       "<div>\n",
       "<style scoped>\n",
       "    .dataframe tbody tr th:only-of-type {\n",
       "        vertical-align: middle;\n",
       "    }\n",
       "\n",
       "    .dataframe tbody tr th {\n",
       "        vertical-align: top;\n",
       "    }\n",
       "\n",
       "    .dataframe thead th {\n",
       "        text-align: right;\n",
       "    }\n",
       "</style>\n",
       "<table border=\"1\" class=\"dataframe\">\n",
       "  <thead>\n",
       "    <tr style=\"text-align: right;\">\n",
       "      <th></th>\n",
       "      <th>P1</th>\n",
       "      <th>P2</th>\n",
       "    </tr>\n",
       "  </thead>\n",
       "  <tbody>\n",
       "    <tr>\n",
       "      <th>0</th>\n",
       "      <td>-0.504053</td>\n",
       "      <td>-0.149795</td>\n",
       "    </tr>\n",
       "    <tr>\n",
       "      <th>1</th>\n",
       "      <td>-0.560450</td>\n",
       "      <td>-0.385387</td>\n",
       "    </tr>\n",
       "    <tr>\n",
       "      <th>2</th>\n",
       "      <td>-0.532097</td>\n",
       "      <td>-0.246730</td>\n",
       "    </tr>\n",
       "    <tr>\n",
       "      <th>3</th>\n",
       "      <td>-0.533904</td>\n",
       "      <td>0.037446</td>\n",
       "    </tr>\n",
       "    <tr>\n",
       "      <th>4</th>\n",
       "      <td>-0.112547</td>\n",
       "      <td>0.767965</td>\n",
       "    </tr>\n",
       "    <tr>\n",
       "      <th>...</th>\n",
       "      <td>...</td>\n",
       "      <td>...</td>\n",
       "    </tr>\n",
       "    <tr>\n",
       "      <th>77</th>\n",
       "      <td>-0.424459</td>\n",
       "      <td>-0.160887</td>\n",
       "    </tr>\n",
       "    <tr>\n",
       "      <th>78</th>\n",
       "      <td>-0.568107</td>\n",
       "      <td>-0.321691</td>\n",
       "    </tr>\n",
       "    <tr>\n",
       "      <th>79</th>\n",
       "      <td>-0.495559</td>\n",
       "      <td>-0.399469</td>\n",
       "    </tr>\n",
       "    <tr>\n",
       "      <th>80</th>\n",
       "      <td>-0.582460</td>\n",
       "      <td>-0.501984</td>\n",
       "    </tr>\n",
       "    <tr>\n",
       "      <th>81</th>\n",
       "      <td>-0.486607</td>\n",
       "      <td>-0.108219</td>\n",
       "    </tr>\n",
       "  </tbody>\n",
       "</table>\n",
       "<p>82 rows × 2 columns</p>\n",
       "</div>"
      ],
      "text/plain": [
       "          P1        P2\n",
       "0  -0.504053 -0.149795\n",
       "1  -0.560450 -0.385387\n",
       "2  -0.532097 -0.246730\n",
       "3  -0.533904  0.037446\n",
       "4  -0.112547  0.767965\n",
       "..       ...       ...\n",
       "77 -0.424459 -0.160887\n",
       "78 -0.568107 -0.321691\n",
       "79 -0.495559 -0.399469\n",
       "80 -0.582460 -0.501984\n",
       "81 -0.486607 -0.108219\n",
       "\n",
       "[82 rows x 2 columns]"
      ]
     },
     "execution_count": 12,
     "metadata": {},
     "output_type": "execute_result"
    }
   ],
   "source": [
    "X_principal"
   ]
  },
  {
   "cell_type": "code",
   "execution_count": 13,
   "metadata": {},
   "outputs": [
    {
     "data": {
      "image/png": "[encoded data removed]",
      "text/plain": [
       "<Figure size 432x432 with 1 Axes>"
      ]
     },
     "metadata": {
      "needs_background": "light"
     },
     "output_type": "display_data"
    }
   ],
   "source": [
    "import matplotlib.pyplot as plt \n",
    "ac2 = AgglomerativeClustering(n_clusters = 2) \n",
    "  \n",
    "# Visualizing the clustering \n",
    "plt.figure(figsize =(6, 6)) \n",
    "plt.scatter(X_principal['P1'], X_principal['P2'],  \n",
    "           c = ac2.fit_predict(X_principal), cmap ='rainbow') \n",
    "plt.show() "
   ]
  },
  {
   "cell_type": "code",
   "execution_count": 14,
   "metadata": {},
   "outputs": [
    {
     "data": {
      "image/png": "[encoded data removed]",
      "text/plain": [
       "<Figure size 432x432 with 1 Axes>"
      ]
     },
     "metadata": {
      "needs_background": "light"
     },
     "output_type": "display_data"
    }
   ],
   "source": [
    "ac3 = AgglomerativeClustering(n_clusters = 3) \n",
    "  \n",
    "plt.figure(figsize =(6, 6)) \n",
    "plt.scatter(X_principal['P1'], X_principal['P2'], \n",
    "           c = ac3.fit_predict(X_principal), cmap ='rainbow') \n",
    "plt.show() "
   ]
  },
  {
   "cell_type": "code",
   "execution_count": 15,
   "metadata": {},
   "outputs": [
    {
     "data": {
      "image/png": "[encoded data removed]",
      "text/plain": [
       "<Figure size 432x432 with 1 Axes>"
      ]
     },
     "metadata": {
      "needs_background": "light"
     },
     "output_type": "display_data"
    }
   ],
   "source": [
    "ac4 = AgglomerativeClustering(n_clusters = 4) \n",
    "  \n",
    "plt.figure(figsize =(6, 6)) \n",
    "plt.scatter(X_principal['P1'], X_principal['P2'], \n",
    "            c = ac4.fit_predict(X_principal), cmap ='rainbow') \n",
    "plt.show()"
   ]
  },
  {
   "cell_type": "code",
   "execution_count": 16,
   "metadata": {},
   "outputs": [
    {
     "data": {
      "image/png": "[encoded data removed]",
      "text/plain": [
       "<Figure size 432x432 with 1 Axes>"
      ]
     },
     "metadata": {
      "needs_background": "light"
     },
     "output_type": "display_data"
    }
   ],
   "source": [
    "ac5 = AgglomerativeClustering(n_clusters = 5) \n",
    "  \n",
    "plt.figure(figsize =(6, 6)) \n",
    "plt.scatter(X_principal['P1'], X_principal['P2'], \n",
    "            c = ac5.fit_predict(X_principal), cmap ='rainbow') \n",
    "plt.show()"
   ]
  },
  {
   "cell_type": "code",
   "execution_count": 17,
   "metadata": {},
   "outputs": [
    {
     "data": {
      "image/png": "[encoded data removed]",
      "text/plain": [
       "<Figure size 432x432 with 1 Axes>"
      ]
     },
     "metadata": {
      "needs_background": "light"
     },
     "output_type": "display_data"
    }
   ],
   "source": [
    "ac6 = AgglomerativeClustering(n_clusters = 6) \n",
    "  \n",
    "plt.figure(figsize =(6, 6)) \n",
    "plt.scatter(X_principal['P1'], X_principal['P2'], \n",
    "            c = ac6.fit_predict(X_principal), cmap ='rainbow') \n",
    "plt.show()"
   ]
  },
  {
   "cell_type": "code",
   "execution_count": 18,
   "metadata": {},
   "outputs": [
    {
     "data": {
      "image/png": "[encoded data removed]",
      "text/plain": [
       "<Figure size 432x288 with 1 Axes>"
      ]
     },
     "metadata": {
      "needs_background": "light"
     },
     "output_type": "display_data"
    }
   ],
   "source": [
    "from sklearn.metrics import silhouette_score \n",
    "k = [2, 3, 4, 5, 6] \n",
    "  \n",
    "# Appending the silhouette scores of the different models to the list \n",
    "silhouette_scores = [] \n",
    "silhouette_scores.append( \n",
    "        silhouette_score(X_principal, ac2.fit_predict(X_principal))) \n",
    "silhouette_scores.append( \n",
    "        silhouette_score(X_principal, ac3.fit_predict(X_principal))) \n",
    "silhouette_scores.append( \n",
    "        silhouette_score(X_principal, ac4.fit_predict(X_principal))) \n",
    "silhouette_scores.append( \n",
    "        silhouette_score(X_principal, ac5.fit_predict(X_principal))) \n",
    "silhouette_scores.append( \n",
    "        silhouette_score(X_principal, ac6.fit_predict(X_principal))) \n",
    "  \n",
    "# Plotting a bar graph to compare the results \n",
    "plt.bar(k, silhouette_scores) \n",
    "plt.xlabel('Number of clusters', fontsize = 20) \n",
    "plt.ylabel('S(i)', fontsize = 20) \n",
    "plt.show() "
   ]
  },
  {
   "cell_type": "code",
   "execution_count": 19,
   "metadata": {},
   "outputs": [
    {
     "data": {
      "image/png": "[encoded data removed]",
      "text/plain": [
       "<Figure size 432x288 with 1 Axes>"
      ]
     },
     "metadata": {
      "needs_background": "light"
     },
     "output_type": "display_data"
    }
   ],
   "source": [
    "from sklearn.metrics import calinski_harabasz_score\n",
    "# Appending the CH scores of the different models to the list \n",
    "ch_scores = [] \n",
    "ch_scores.append( \n",
    "        calinski_harabasz_score(X_principal, ac2.fit_predict(X_principal))) \n",
    "ch_scores.append( \n",
    "        calinski_harabasz_score(X_principal, ac3.fit_predict(X_principal))) \n",
    "ch_scores.append( \n",
    "        calinski_harabasz_score(X_principal, ac4.fit_predict(X_principal))) \n",
    "ch_scores.append( \n",
    "        calinski_harabasz_score(X_principal, ac5.fit_predict(X_principal))) \n",
    "ch_scores.append( \n",
    "        calinski_harabasz_score(X_principal, ac6.fit_predict(X_principal))) \n",
    "  \n",
    "# Plotting a bar graph to compare the results \n",
    "plt.bar(k, ch_scores) \n",
    "plt.xlabel('Number of clusters', fontsize = 20) \n",
    "plt.ylabel('CH(i)', fontsize = 20) \n",
    "plt.show() "
   ]
  },
  {
   "cell_type": "code",
   "execution_count": 20,
   "metadata": {},
   "outputs": [
    {
     "data": {
      "text/plain": [
       "array([6.99668267e-01, 2.88876793e-01, 6.22521046e-03, 2.56509917e-03,\n",
       "       8.83353240e-04, 6.63754072e-04, 6.08570309e-04, 4.29814930e-04,\n",
       "       3.63117922e-05, 2.58066979e-05])"
      ]
     },
     "execution_count": 20,
     "metadata": {},
     "output_type": "execute_result"
    }
   ],
   "source": [
    "# Use PCA for dimension reduction\n",
    "from sklearn.decomposition import PCA\n",
    "pca = PCA(n_components=10)\n",
    "pca.fit(feature_table.values)\n",
    "\n",
    "pca_result = pca.transform(feature_table.values)\n",
    "pca_table1 = pd.DataFrame(columns=['f1', 'f2', 'f3', 'f4', 'f5','f6', 'f7', 'f8', 'f9', 'f10'])\n",
    "for i in range(10):\n",
    "    pca_table1[f'f{i+1}'] = pca_result[:,i]\n",
    "pca.explained_variance_ratio_"
   ]
  },
  {
   "cell_type": "code",
   "execution_count": 21,
   "metadata": {},
   "outputs": [
    {
     "data": {
      "text/plain": [
       "array([1, 1, 1, 1, 1, 1, 1, 1, 1, 1, 1, 1, 1, 1, 1, 1, 1], dtype=int32)"
      ]
     },
     "execution_count": 21,
     "metadata": {},
     "output_type": "execute_result"
    }
   ],
   "source": [
    "from sklearn.cluster import KMeans\n",
    "import numpy as np\n",
    "pca_array = pca_table1.to_numpy()\n",
    "train = pca_array[:int(pca_array.shape[0]*0.8),:]\n",
    "test = pca_array[int(pca_array.shape[0]*0.8):,:]\n",
    "kmeans = KMeans(n_clusters=3, random_state=0).fit(train)\n",
    "kmeans.predict(test)"
   ]
  },
  {
   "cell_type": "code",
   "execution_count": 22,
   "metadata": {},
   "outputs": [
    {
     "data": {
      "text/plain": [
       "array([1, 1, 1, 1, 1, 1, 1, 1, 1, 1, 1, 1, 1, 1, 1, 1, 1])"
      ]
     },
     "execution_count": 22,
     "metadata": {},
     "output_type": "execute_result"
    }
   ],
   "source": [
    " from sklearn.cluster import Birch\n",
    "brc = Birch(n_clusters=2).fit(train)\n",
    "brc.predict(test)"
   ]
  },
  {
   "cell_type": "code",
   "execution_count": 23,
   "metadata": {},
   "outputs": [
    {
     "name": "stdout",
     "output_type": "stream",
     "text": [
      "Collecting seaborn\n",
      "\u001b[?25l  Downloading https://files.pythonhosted.org/packages/68/ad/6c2406ae175f59ec616714e408979b674fe27b9587f79d59a528ddfbcd5b/seaborn-0.11.1-py3-none-any.whl (285kB)\n",
      "\u001b[K    100% |████████████████████████████████| 286kB 29.3MB/s ta 0:00:01\n",
      "\u001b[?25hRequirement already satisfied: scipy>=1.0 in /opt/conda/lib/python3.7/site-packages (from seaborn) (1.6.0)\n",
      "Requirement already satisfied: numpy>=1.15 in /opt/conda/lib/python3.7/site-packages (from seaborn) (1.20.0)\n",
      "Requirement already satisfied: pandas>=0.23 in /opt/conda/lib/python3.7/site-packages (from seaborn) (1.1.5)\n",
      "Requirement already satisfied: matplotlib>=2.2 in /opt/conda/lib/python3.7/site-packages (from seaborn) (3.3.4)\n",
      "Requirement already satisfied: python-dateutil>=2.7.3 in /opt/conda/lib/python3.7/site-packages (from pandas>=0.23->seaborn) (2.8.1)\n",
      "Requirement already satisfied: pytz>=2017.2 in /opt/conda/lib/python3.7/site-packages (from pandas>=0.23->seaborn) (2020.5)\n",
      "Requirement already satisfied: cycler>=0.10 in /opt/conda/lib/python3.7/site-packages (from matplotlib>=2.2->seaborn) (0.10.0)\n",
      "Requirement already satisfied: pillow>=6.2.0 in /opt/conda/lib/python3.7/site-packages (from matplotlib>=2.2->seaborn) (8.1.0)\n",
      "Requirement already satisfied: kiwisolver>=1.0.1 in /opt/conda/lib/python3.7/site-packages (from matplotlib>=2.2->seaborn) (1.3.1)\n",
      "Requirement already satisfied: pyparsing!=2.0.4,!=2.1.2,!=2.1.6,>=2.0.3 in /opt/conda/lib/python3.7/site-packages (from matplotlib>=2.2->seaborn) (2.4.7)\n",
      "Requirement already satisfied: six>=1.5 in /opt/conda/lib/python3.7/site-packages (from python-dateutil>=2.7.3->pandas>=0.23->seaborn) (1.11.0)\n",
      "Installing collected packages: seaborn\n",
      "Successfully installed seaborn-0.11.1\n",
      "\u001b[33mYou are using pip version 10.0.1, however version 21.0.1 is available.\n",
      "You should consider upgrading via the 'pip install --upgrade pip' command.\u001b[0m\n"
     ]
    }
   ],
   "source": [
    "!pip install seaborn"
   ]
  },
  {
   "cell_type": "code",
   "execution_count": 24,
   "metadata": {},
   "outputs": [
    {
     "data": {
      "text/plain": [
       "<AxesSubplot:xlabel='f1', ylabel='f2'>"
      ]
     },
     "execution_count": 24,
     "metadata": {},
     "output_type": "execute_result"
    },
    {
     "data": {
      "image/png": "[encoded data removed]",
      "text/plain": [
       "<Figure size 1152x720 with 1 Axes>"
      ]
     },
     "metadata": {
      "needs_background": "light"
     },
     "output_type": "display_data"
    }
   ],
   "source": [
    "import seaborn as sns\n",
    "\n",
    "plt.figure(figsize=(16,10))\n",
    "pca_table1['snort_alert_type'] = data['snort_alert_type']\n",
    "pca_table1['snort_alert_type'] = pca_table1['snort_alert_type'].astype('str')\n",
    "sns.scatterplot(x='f1', y='f2', hue='snort_alert_type', palette=sns.color_palette(\"hls\",3), legend=\"full\", data=pca_table1, alpha=0.3)"
   ]
  },
  {
   "cell_type": "code",
   "execution_count": 25,
   "metadata": {},
   "outputs": [
    {
     "data": {
      "text/plain": [
       "0.0"
      ]
     },
     "execution_count": 25,
     "metadata": {},
     "output_type": "execute_result"
    }
   ],
   "source": [
    "from sklearn import metrics\n",
    "metrics.adjusted_rand_score(kmeans.predict(test), label_array[-len(test):])"
   ]
  },
  {
   "cell_type": "code",
   "execution_count": 26,
   "metadata": {},
   "outputs": [
    {
     "data": {
      "text/plain": [
       "array([[  42.    ,    0.    ,    2.    , ...,    0.    ,    0.    ,\n",
       "        1350.55  ],\n",
       "       [  42.    ,    0.    ,    2.    , ...,    0.    ,    0.    ,\n",
       "        1350.55  ],\n",
       "       [  42.    ,    0.    ,    2.    , ...,  -56.2576,    0.    ,\n",
       "        1350.55  ],\n",
       "       ...,\n",
       "       [  42.    ,    0.    ,    2.    , ...,   43.5386,    0.    ,\n",
       "          43.4815],\n",
       "       [  42.    ,    0.    ,    2.    , ...,    0.    ,    0.    ,\n",
       "          43.4815],\n",
       "       [  42.    ,    0.    ,    2.    , ...,    0.    ,    0.    ,\n",
       "          43.4815]])"
      ]
     },
     "execution_count": 26,
     "metadata": {},
     "output_type": "execute_result"
    }
   ],
   "source": [
    "feature_array = feature_table.to_numpy()\n",
    "feature_array"
   ]
  },
  {
   "cell_type": "code",
   "execution_count": 27,
   "metadata": {},
   "outputs": [
    {
     "data": {
      "text/plain": [
       "array([0, 0, 0, 0, 0, 0, 0, 0, 0, 0, 0, 0, 0, 0, 0, 0, 0, 0, 0, 0, 1, 1,\n",
       "       1, 1, 1, 1, 1, 1, 1, 1, 1, 1, 1, 1, 1, 1, 1, 1, 1, 1, 1, 1, 1, 1,\n",
       "       1, 1, 1, 1, 1, 1, 1, 1, 1, 1, 1, 1, 1, 1, 1, 1, 1, 1, 1, 0, 0, 0,\n",
       "       0, 0, 0, 0, 0, 0, 0, 0, 0, 0, 0, 0, 0, 0, 0, 0])"
      ]
     },
     "execution_count": 27,
     "metadata": {},
     "output_type": "execute_result"
    }
   ],
   "source": [
    "label_array = data[['Label']].to_numpy().flatten()\n",
    "label_array"
   ]
  },
  {
   "cell_type": "code",
   "execution_count": 28,
   "metadata": {},
   "outputs": [
    {
     "name": "stdout",
     "output_type": "stream",
     "text": [
      "Average precision-recall score: 0.63\n"
     ]
    }
   ],
   "source": [
    "from sklearn.model_selection import train_test_split\n",
    "X_train, X_test, y_train, y_test = train_test_split(feature_array, label_array, test_size=0.33, random_state=42)\n",
    "\n",
    "from sklearn import svm\n",
    "clf = svm.SVC()\n",
    "clf.fit(X_train, y_train)\n",
    "predictions = clf.predict(X_test)\n",
    "from sklearn.metrics import confusion_matrix\n",
    "confusion_matrix(y_test, predictions)\n",
    "\n",
    "from sklearn.metrics import average_precision_score\n",
    "average_precision = average_precision_score(y_test, predictions)\n",
    "\n",
    "print('Average precision-recall score: {0:0.2f}'.format(\n",
    "      average_precision))"
   ]
  },
  {
   "cell_type": "code",
   "execution_count": 29,
   "metadata": {},
   "outputs": [
    {
     "name": "stdout",
     "output_type": "stream",
     "text": [
      "Confusion Matrix :\n",
      "[[ 7  5]\n",
      " [ 6 10]]\n",
      "Accuracy Score :0.6071428571428571\n",
      "Report : \n",
      "              precision    recall  f1-score   support\n",
      "\n",
      "           0       0.54      0.58      0.56        12\n",
      "           1       0.67      0.62      0.65        16\n",
      "\n",
      "    accuracy                           0.61        28\n",
      "   macro avg       0.60      0.60      0.60        28\n",
      "weighted avg       0.61      0.61      0.61        28\n",
      "\n"
     ]
    }
   ],
   "source": [
    "from sklearn.metrics import confusion_matrix \n",
    "from sklearn.metrics import accuracy_score \n",
    "from sklearn.metrics import classification_report \n",
    "results = confusion_matrix(y_test, predictions) \n",
    "  \n",
    "print('Confusion Matrix :')\n",
    "print(results) \n",
    "print('Accuracy Score :'+str(accuracy_score(y_test,predictions)))\n",
    "print('Report : ')\n",
    "print(classification_report(y_test,predictions))"
   ]
  },
  {
   "cell_type": "code",
   "execution_count": 30,
   "metadata": {},
   "outputs": [
    {
     "data": {
      "text/plain": [
       "Text(0.5, 1.0, '2-class Precision-Recall curve: AP=0.63')"
      ]
     },
     "execution_count": 30,
     "metadata": {},
     "output_type": "execute_result"
    },
    {
     "data": {
      "image/png": "[encoded data removed]",
      "text/plain": [
       "<Figure size 432x288 with 1 Axes>"
      ]
     },
     "metadata": {
      "needs_background": "light"
     },
     "output_type": "display_data"
    }
   ],
   "source": [
    "from sklearn.metrics import precision_recall_curve\n",
    "from sklearn.metrics import plot_precision_recall_curve\n",
    "import matplotlib.pyplot as plt\n",
    "\n",
    "disp = plot_precision_recall_curve(clf, X_test, y_test)\n",
    "disp.ax_.set_title('2-class Precision-Recall curve: '\n",
    "                   'AP={0:0.2f}'.format(average_precision))"
   ]
  },
  {
   "cell_type": "code",
   "execution_count": 31,
   "metadata": {},
   "outputs": [
    {
     "name": "stdout",
     "output_type": "stream",
     "text": [
      "Average precision-recall score: 0.91\n"
     ]
    }
   ],
   "source": [
    "from sklearn import tree\n",
    "dt = tree.DecisionTreeClassifier()\n",
    "dt.fit(X_train, y_train)\n",
    "dtpredictions = dt.predict(X_test)\n",
    "\n",
    "average_precision = average_precision_score(y_test, dtpredictions)\n",
    "\n",
    "print('Average precision-recall score: {0:0.2f}'.format(\n",
    "      average_precision))"
   ]
  },
  {
   "cell_type": "code",
   "execution_count": 32,
   "metadata": {},
   "outputs": [
    {
     "data": {
      "text/plain": [
       "Text(0.5, 1.0, '2-class Precision-Recall curve: AP=0.91')"
      ]
     },
     "execution_count": 32,
     "metadata": {},
     "output_type": "execute_result"
    },
    {
     "data": {
      "image/png": "[encoded data removed]",
      "text/plain": [
       "<Figure size 432x288 with 1 Axes>"
      ]
     },
     "metadata": {
      "needs_background": "light"
     },
     "output_type": "display_data"
    }
   ],
   "source": [
    "disp = plot_precision_recall_curve(dt, X_test, y_test)\n",
    "disp.ax_.set_title('2-class Precision-Recall curve: '\n",
    "                   'AP={0:0.2f}'.format(average_precision))"
   ]
  },
  {
   "cell_type": "code",
   "execution_count": 33,
   "metadata": {},
   "outputs": [
    {
     "name": "stdout",
     "output_type": "stream",
     "text": [
      "Confusion Matrix :\n",
      "[[11  1]\n",
      " [ 1 15]]\n",
      "Accuracy Score :0.9285714285714286\n",
      "Report : \n",
      "              precision    recall  f1-score   support\n",
      "\n",
      "           0       0.92      0.92      0.92        12\n",
      "           1       0.94      0.94      0.94        16\n",
      "\n",
      "    accuracy                           0.93        28\n",
      "   macro avg       0.93      0.93      0.93        28\n",
      "weighted avg       0.93      0.93      0.93        28\n",
      "\n"
     ]
    }
   ],
   "source": [
    "results = confusion_matrix(y_test, dtpredictions) \n",
    "  \n",
    "print('Confusion Matrix :')\n",
    "print(results) \n",
    "print('Accuracy Score :'+str(accuracy_score(y_test,dtpredictions)))\n",
    "print('Report : ')\n",
    "print(classification_report(y_test,dtpredictions))"
   ]
  },
  {
   "cell_type": "code",
   "execution_count": 34,
   "metadata": {},
   "outputs": [
    {
     "name": "stdout",
     "output_type": "stream",
     "text": [
      "Average precision-recall score: 0.79\n"
     ]
    },
    {
     "data": {
      "text/plain": [
       "Text(0.5, 1.0, '2-class Precision-Recall curve: AP=0.79')"
      ]
     },
     "execution_count": 34,
     "metadata": {},
     "output_type": "execute_result"
    },
    {
     "data": {
      "image/png": "[encoded data removed]",
      "text/plain": [
       "<Figure size 432x288 with 1 Axes>"
      ]
     },
     "metadata": {
      "needs_background": "light"
     },
     "output_type": "display_data"
    }
   ],
   "source": [
    "from sklearn.ensemble import RandomForestClassifier\n",
    "rf = RandomForestClassifier(n_estimators=10)\n",
    "rf.fit(X_train, y_train)\n",
    "rfpredictions = rf.predict(X_test)\n",
    "\n",
    "average_precision = average_precision_score(y_test, rfpredictions)\n",
    "\n",
    "print('Average precision-recall score: {0:0.2f}'.format(\n",
    "      average_precision))\n",
    "disp = plot_precision_recall_curve(rf, X_test, y_test)\n",
    "disp.ax_.set_title('2-class Precision-Recall curve: '\n",
    "                   'AP={0:0.2f}'.format(average_precision))"
   ]
  },
  {
   "cell_type": "code",
   "execution_count": 35,
   "metadata": {},
   "outputs": [
    {
     "name": "stdout",
     "output_type": "stream",
     "text": [
      "Confusion Matrix :\n",
      "[[ 9  3]\n",
      " [ 2 14]]\n",
      "Accuracy Score :0.8214285714285714\n",
      "Report : \n",
      "              precision    recall  f1-score   support\n",
      "\n",
      "           0       0.82      0.75      0.78        12\n",
      "           1       0.82      0.88      0.85        16\n",
      "\n",
      "    accuracy                           0.82        28\n",
      "   macro avg       0.82      0.81      0.82        28\n",
      "weighted avg       0.82      0.82      0.82        28\n",
      "\n"
     ]
    }
   ],
   "source": [
    "results = confusion_matrix(y_test, rfpredictions) \n",
    "  \n",
    "print('Confusion Matrix :')\n",
    "print(results) \n",
    "print('Accuracy Score :'+str(accuracy_score(y_test,rfpredictions)))\n",
    "print('Report : ')\n",
    "print(classification_report(y_test,rfpredictions))"
   ]
  },
  {
   "cell_type": "code",
   "execution_count": 36,
   "metadata": {},
   "outputs": [
    {
     "name": "stdout",
     "output_type": "stream",
     "text": [
      "Average precision-recall score: 0.61\n"
     ]
    },
    {
     "data": {
      "text/plain": [
       "Text(0.5, 1.0, '2-class Precision-Recall curve: AP=0.61')"
      ]
     },
     "execution_count": 36,
     "metadata": {},
     "output_type": "execute_result"
    },
    {
     "data": {
      "image/png": "[encoded data removed]",
      "text/plain": [
       "<Figure size 432x288 with 1 Axes>"
      ]
     },
     "metadata": {
      "needs_background": "light"
     },
     "output_type": "display_data"
    }
   ],
   "source": [
    "from sklearn.naive_bayes import GaussianNB\n",
    "gnb = GaussianNB()\n",
    "gnb.fit(X_train, y_train)\n",
    "gnbpredictions = gnb.predict(X_test)\n",
    "\n",
    "average_precision = average_precision_score(y_test, gnbpredictions)\n",
    "\n",
    "print('Average precision-recall score: {0:0.2f}'.format(\n",
    "      average_precision))\n",
    "disp = plot_precision_recall_curve(gnb, X_test, y_test)\n",
    "disp.ax_.set_title('2-class Precision-Recall curve: '\n",
    "                   'AP={0:0.2f}'.format(average_precision))"
   ]
  },
  {
   "cell_type": "code",
   "execution_count": 37,
   "metadata": {},
   "outputs": [
    {
     "name": "stdout",
     "output_type": "stream",
     "text": [
      "Confusion Matrix :\n",
      "[[7 5]\n",
      " [7 9]]\n",
      "Accuracy Score :0.5714285714285714\n",
      "Report : \n",
      "              precision    recall  f1-score   support\n",
      "\n",
      "           0       0.50      0.58      0.54        12\n",
      "           1       0.64      0.56      0.60        16\n",
      "\n",
      "    accuracy                           0.57        28\n",
      "   macro avg       0.57      0.57      0.57        28\n",
      "weighted avg       0.58      0.57      0.57        28\n",
      "\n"
     ]
    }
   ],
   "source": [
    "results = confusion_matrix(y_test, gnbpredictions) \n",
    "  \n",
    "print('Confusion Matrix :')\n",
    "print(results) \n",
    "print('Accuracy Score :'+str(accuracy_score(y_test,gnbpredictions)))\n",
    "print('Report : ')\n",
    "print(classification_report(y_test,gnbpredictions))"
   ]
  },
  {
   "cell_type": "code",
   "execution_count": 38,
   "metadata": {},
   "outputs": [
    {
     "name": "stdout",
     "output_type": "stream",
     "text": [
      "Average precision-recall score: 0.60\n"
     ]
    },
    {
     "data": {
      "text/plain": [
       "Text(0.5, 1.0, '2-class Precision-Recall curve: AP=0.60')"
      ]
     },
     "execution_count": 38,
     "metadata": {},
     "output_type": "execute_result"
    },
    {
     "data": {
      "image/png": "[encoded data removed]",
      "text/plain": [
       "<Figure size 432x288 with 1 Axes>"
      ]
     },
     "metadata": {
      "needs_background": "light"
     },
     "output_type": "display_data"
    }
   ],
   "source": [
    "from sklearn.naive_bayes import BernoulliNB\n",
    "bnb = BernoulliNB()\n",
    "bnb.fit(X_train, y_train)\n",
    "bnbpredictions = bnb.predict(X_test)\n",
    "\n",
    "average_precision = average_precision_score(y_test, bnbpredictions)\n",
    "\n",
    "print('Average precision-recall score: {0:0.2f}'.format(\n",
    "      average_precision))\n",
    "disp = plot_precision_recall_curve(bnb, X_test, y_test)\n",
    "disp.ax_.set_title('2-class Precision-Recall curve: '\n",
    "                   'AP={0:0.2f}'.format(average_precision))"
   ]
  },
  {
   "cell_type": "code",
   "execution_count": 39,
   "metadata": {},
   "outputs": [
    {
     "name": "stdout",
     "output_type": "stream",
     "text": [
      "Confusion Matrix :\n",
      "[[ 6  6]\n",
      " [ 6 10]]\n",
      "Accuracy Score :0.5714285714285714\n",
      "Report : \n",
      "              precision    recall  f1-score   support\n",
      "\n",
      "           0       0.50      0.50      0.50        12\n",
      "           1       0.62      0.62      0.62        16\n",
      "\n",
      "    accuracy                           0.57        28\n",
      "   macro avg       0.56      0.56      0.56        28\n",
      "weighted avg       0.57      0.57      0.57        28\n",
      "\n"
     ]
    }
   ],
   "source": [
    "results = confusion_matrix(y_test, bnbpredictions) \n",
    "  \n",
    "print('Confusion Matrix :')\n",
    "print(results) \n",
    "print('Accuracy Score :'+str(accuracy_score(y_test,bnbpredictions)))\n",
    "print('Report : ')\n",
    "print(classification_report(y_test,bnbpredictions))"
   ]
  },
  {
   "cell_type": "code",
   "execution_count": 40,
   "metadata": {},
   "outputs": [
    {
     "name": "stdout",
     "output_type": "stream",
     "text": [
      "Average precision-recall score: 0.57\n"
     ]
    },
    {
     "data": {
      "text/plain": [
       "Text(0.5, 1.0, '2-class Precision-Recall curve: AP=0.57')"
      ]
     },
     "execution_count": 40,
     "metadata": {},
     "output_type": "execute_result"
    },
    {
     "data": {
      "image/png": "[encoded data removed]",
      "text/plain": [
       "<Figure size 432x288 with 1 Axes>"
      ]
     },
     "metadata": {
      "needs_background": "light"
     },
     "output_type": "display_data"
    }
   ],
   "source": [
    "from sklearn.neural_network import MLPClassifier\n",
    "nn = MLPClassifier(solver='lbfgs', alpha=1e-5,hidden_layer_sizes=(5, 2), random_state=1)\n",
    "nn.fit(X_train, y_train)\n",
    "nnpredictions = nn.predict(X_test)\n",
    "\n",
    "average_precision = average_precision_score(y_test, nnpredictions)\n",
    "\n",
    "print('Average precision-recall score: {0:0.2f}'.format(\n",
    "      average_precision))\n",
    "disp = plot_precision_recall_curve(nn, X_test, y_test)\n",
    "disp.ax_.set_title('2-class Precision-Recall curve: '\n",
    "                   'AP={0:0.2f}'.format(average_precision))"
   ]
  },
  {
   "cell_type": "code",
   "execution_count": 41,
   "metadata": {},
   "outputs": [
    {
     "name": "stdout",
     "output_type": "stream",
     "text": [
      "Confusion Matrix :\n",
      "[[ 0 12]\n",
      " [ 0 16]]\n",
      "Accuracy Score :0.5714285714285714\n",
      "Report : \n",
      "              precision    recall  f1-score   support\n",
      "\n",
      "           0       0.00      0.00      0.00        12\n",
      "           1       0.57      1.00      0.73        16\n",
      "\n",
      "    accuracy                           0.57        28\n",
      "   macro avg       0.29      0.50      0.36        28\n",
      "weighted avg       0.33      0.57      0.42        28\n",
      "\n"
     ]
    },
    {
     "name": "stderr",
     "output_type": "stream",
     "text": [
      "/opt/conda/lib/python3.7/site-packages/sklearn/metrics/_classification.py:1245: UndefinedMetricWarning: Precision and F-score are ill-defined and being set to 0.0 in labels with no predicted samples. Use `zero_division` parameter to control this behavior.\n",
      "  _warn_prf(average, modifier, msg_start, len(result))\n",
      "/opt/conda/lib/python3.7/site-packages/sklearn/metrics/_classification.py:1245: UndefinedMetricWarning: Precision and F-score are ill-defined and being set to 0.0 in labels with no predicted samples. Use `zero_division` parameter to control this behavior.\n",
      "  _warn_prf(average, modifier, msg_start, len(result))\n",
      "/opt/conda/lib/python3.7/site-packages/sklearn/metrics/_classification.py:1245: UndefinedMetricWarning: Precision and F-score are ill-defined and being set to 0.0 in labels with no predicted samples. Use `zero_division` parameter to control this behavior.\n",
      "  _warn_prf(average, modifier, msg_start, len(result))\n"
     ]
    }
   ],
   "source": [
    "results = confusion_matrix(y_test, nnpredictions) \n",
    "  \n",
    "print('Confusion Matrix :')\n",
    "print(results) \n",
    "print('Accuracy Score :'+str(accuracy_score(y_test,nnpredictions)))\n",
    "print('Report : ')\n",
    "print(classification_report(y_test,nnpredictions))"
   ]
  },
  {
   "cell_type": "code",
   "execution_count": 42,
   "metadata": {},
   "outputs": [],
   "source": [
    "# Now use PCA for dimensional reduction and reperform the supervised learning\n",
    "from sklearn.decomposition import PCA\n",
    "pca = PCA(n_components=10)\n",
    "pca.fit(feature_table.values)\n",
    "\n",
    "pca_result = pca.transform(feature_table.values)\n",
    "pca_table1 = pd.DataFrame(columns=['f1', 'f2', 'f3', 'f4', 'f5','f6', 'f7', 'f8', 'f9', 'f10'])\n",
    "for i in range(10):\n",
    "    pca_table1[f'f{i+1}'] = pca_result[:,i]\n",
    "    \n",
    "pca_feature_array = pca_table1.to_numpy()"
   ]
  },
  {
   "cell_type": "code",
   "execution_count": 43,
   "metadata": {},
   "outputs": [
    {
     "name": "stdout",
     "output_type": "stream",
     "text": [
      "Average precision-recall score: 0.63\n"
     ]
    },
    {
     "data": {
      "text/plain": [
       "Text(0.5, 1.0, '2-class Precision-Recall curve: AP=0.63')"
      ]
     },
     "execution_count": 43,
     "metadata": {},
     "output_type": "execute_result"
    },
    {
     "data": {
      "image/png": "[encoded data removed]",
      "text/plain": [
       "<Figure size 432x288 with 1 Axes>"
      ]
     },
     "metadata": {
      "needs_background": "light"
     },
     "output_type": "display_data"
    }
   ],
   "source": [
    "X_train, X_test, y_train, y_test = train_test_split(pca_feature_array, label_array, test_size=0.33, random_state=42)\n",
    "\n",
    "clf_pca = svm.SVC()\n",
    "clf_pca.fit(X_train, y_train)\n",
    "clf_pca_predictions = clf_pca.predict(X_test)\n",
    "\n",
    "average_precision = average_precision_score(y_test, clf_pca_predictions)\n",
    "\n",
    "print('Average precision-recall score: {0:0.2f}'.format(\n",
    "      average_precision))\n",
    "\n",
    "disp = plot_precision_recall_curve(clf_pca, X_test, y_test)\n",
    "disp.ax_.set_title('2-class Precision-Recall curve: '\n",
    "                   'AP={0:0.2f}'.format(average_precision))"
   ]
  },
  {
   "cell_type": "code",
   "execution_count": 44,
   "metadata": {},
   "outputs": [
    {
     "name": "stdout",
     "output_type": "stream",
     "text": [
      "Confusion Matrix :\n",
      "[[ 7  5]\n",
      " [ 6 10]]\n",
      "Accuracy Score :0.6071428571428571\n",
      "Report : \n",
      "              precision    recall  f1-score   support\n",
      "\n",
      "           0       0.54      0.58      0.56        12\n",
      "           1       0.67      0.62      0.65        16\n",
      "\n",
      "    accuracy                           0.61        28\n",
      "   macro avg       0.60      0.60      0.60        28\n",
      "weighted avg       0.61      0.61      0.61        28\n",
      "\n"
     ]
    }
   ],
   "source": [
    "results = confusion_matrix(y_test, clf_pca_predictions) \n",
    "  \n",
    "print('Confusion Matrix :')\n",
    "print(results) \n",
    "print('Accuracy Score :'+str(accuracy_score(y_test,clf_pca_predictions)))\n",
    "print('Report : ')\n",
    "print(classification_report(y_test,clf_pca_predictions))"
   ]
  },
  {
   "cell_type": "code",
   "execution_count": 45,
   "metadata": {},
   "outputs": [
    {
     "name": "stdout",
     "output_type": "stream",
     "text": [
      "Average precision-recall score: 0.74\n"
     ]
    },
    {
     "data": {
      "text/plain": [
       "Text(0.5, 1.0, '2-class Precision-Recall curve: AP=0.74')"
      ]
     },
     "execution_count": 45,
     "metadata": {},
     "output_type": "execute_result"
    },
    {
     "data": {
      "image/png": "[encoded data removed]",
      "text/plain": [
       "<Figure size 432x288 with 1 Axes>"
      ]
     },
     "metadata": {
      "needs_background": "light"
     },
     "output_type": "display_data"
    }
   ],
   "source": [
    "dt = tree.DecisionTreeClassifier()\n",
    "dt.fit(X_train, y_train)\n",
    "dt_pca_predictions = dt.predict(X_test)\n",
    "\n",
    "average_precision = average_precision_score(y_test, dt_pca_predictions)\n",
    "\n",
    "print('Average precision-recall score: {0:0.2f}'.format(\n",
    "      average_precision))\n",
    "disp = plot_precision_recall_curve(dt, X_test, y_test)\n",
    "disp.ax_.set_title('2-class Precision-Recall curve: '\n",
    "                   'AP={0:0.2f}'.format(average_precision))"
   ]
  },
  {
   "cell_type": "code",
   "execution_count": 46,
   "metadata": {},
   "outputs": [
    {
     "name": "stdout",
     "output_type": "stream",
     "text": [
      "Confusion Matrix :\n",
      "[[ 9  3]\n",
      " [ 4 12]]\n",
      "Accuracy Score :0.75\n",
      "Report : \n",
      "              precision    recall  f1-score   support\n",
      "\n",
      "           0       0.69      0.75      0.72        12\n",
      "           1       0.80      0.75      0.77        16\n",
      "\n",
      "    accuracy                           0.75        28\n",
      "   macro avg       0.75      0.75      0.75        28\n",
      "weighted avg       0.75      0.75      0.75        28\n",
      "\n"
     ]
    }
   ],
   "source": [
    "\n",
    "\n",
    "results = confusion_matrix(y_test, dt_pca_predictions) \n",
    "  \n",
    "print('Confusion Matrix :')\n",
    "print(results) \n",
    "print('Accuracy Score :'+str(accuracy_score(y_test,dt_pca_predictions)))\n",
    "print('Report : ')\n",
    "print(classification_report(y_test,dt_pca_predictions))"
   ]
  },
  {
   "cell_type": "code",
   "execution_count": 47,
   "metadata": {},
   "outputs": [
    {
     "name": "stdout",
     "output_type": "stream",
     "text": [
      "Average precision-recall score: 0.79\n"
     ]
    },
    {
     "data": {
      "text/plain": [
       "Text(0.5, 1.0, '2-class Precision-Recall curve: AP=0.79')"
      ]
     },
     "execution_count": 47,
     "metadata": {},
     "output_type": "execute_result"
    },
    {
     "data": {
      "image/png": "[encoded data removed]",
      "text/plain": [
       "<Figure size 432x288 with 1 Axes>"
      ]
     },
     "metadata": {
      "needs_background": "light"
     },
     "output_type": "display_data"
    }
   ],
   "source": [
    "rf_pca = RandomForestClassifier(n_estimators=10)\n",
    "rf_pca.fit(X_train, y_train)\n",
    "rf_pca_predictions = rf_pca.predict(X_test)\n",
    "\n",
    "average_precision = average_precision_score(y_test, rf_pca_predictions)\n",
    "\n",
    "print('Average precision-recall score: {0:0.2f}'.format(\n",
    "      average_precision))\n",
    "disp = plot_precision_recall_curve(rf_pca, X_test, y_test)\n",
    "disp.ax_.set_title('2-class Precision-Recall curve: '\n",
    "                   'AP={0:0.2f}'.format(average_precision))"
   ]
  },
  {
   "cell_type": "code",
   "execution_count": 48,
   "metadata": {},
   "outputs": [
    {
     "name": "stdout",
     "output_type": "stream",
     "text": [
      "Confusion Matrix :\n",
      "[[10  2]\n",
      " [ 4 12]]\n",
      "Accuracy Score :0.7857142857142857\n",
      "Report : \n",
      "              precision    recall  f1-score   support\n",
      "\n",
      "           0       0.71      0.83      0.77        12\n",
      "           1       0.86      0.75      0.80        16\n",
      "\n",
      "    accuracy                           0.79        28\n",
      "   macro avg       0.79      0.79      0.78        28\n",
      "weighted avg       0.80      0.79      0.79        28\n",
      "\n"
     ]
    }
   ],
   "source": [
    "results = confusion_matrix(y_test, rf_pca_predictions) \n",
    "  \n",
    "print('Confusion Matrix :')\n",
    "print(results) \n",
    "print('Accuracy Score :'+str(accuracy_score(y_test,rf_pca_predictions)))\n",
    "print('Report : ')\n",
    "print(classification_report(y_test,rf_pca_predictions))"
   ]
  },
  {
   "cell_type": "code",
   "execution_count": 49,
   "metadata": {},
   "outputs": [
    {
     "name": "stdout",
     "output_type": "stream",
     "text": [
      "Average precision-recall score: 0.58\n"
     ]
    },
    {
     "data": {
      "text/plain": [
       "Text(0.5, 1.0, '2-class Precision-Recall curve: AP=0.58')"
      ]
     },
     "execution_count": 49,
     "metadata": {},
     "output_type": "execute_result"
    },
    {
     "data": {
      "image/png": "[encoded data removed]",
      "text/plain": [
       "<Figure size 432x288 with 1 Axes>"
      ]
     },
     "metadata": {
      "needs_background": "light"
     },
     "output_type": "display_data"
    }
   ],
   "source": [
    "gnb = GaussianNB()\n",
    "gnb.fit(X_train, y_train)\n",
    "gnb_pca_predictions = gnb.predict(X_test)\n",
    "\n",
    "average_precision = average_precision_score(y_test, gnb_pca_predictions)\n",
    "\n",
    "print('Average precision-recall score: {0:0.2f}'.format(\n",
    "      average_precision))\n",
    "disp = plot_precision_recall_curve(gnb, X_test, y_test)\n",
    "disp.ax_.set_title('2-class Precision-Recall curve: '\n",
    "                   'AP={0:0.2f}'.format(average_precision))"
   ]
  },
  {
   "cell_type": "code",
   "execution_count": 50,
   "metadata": {},
   "outputs": [
    {
     "name": "stdout",
     "output_type": "stream",
     "text": [
      "Confusion Matrix :\n",
      "[[ 5  7]\n",
      " [ 6 10]]\n",
      "Accuracy Score :0.5357142857142857\n",
      "Report : \n",
      "              precision    recall  f1-score   support\n",
      "\n",
      "           0       0.45      0.42      0.43        12\n",
      "           1       0.59      0.62      0.61        16\n",
      "\n",
      "    accuracy                           0.54        28\n",
      "   macro avg       0.52      0.52      0.52        28\n",
      "weighted avg       0.53      0.54      0.53        28\n",
      "\n"
     ]
    }
   ],
   "source": [
    "results = confusion_matrix(y_test, gnb_pca_predictions) \n",
    "  \n",
    "print('Confusion Matrix :')\n",
    "print(results) \n",
    "print('Accuracy Score :'+str(accuracy_score(y_test,gnb_pca_predictions)))\n",
    "print('Report : ')\n",
    "print(classification_report(y_test,gnb_pca_predictions))"
   ]
  },
  {
   "cell_type": "code",
   "execution_count": 51,
   "metadata": {},
   "outputs": [
    {
     "name": "stdout",
     "output_type": "stream",
     "text": [
      "Average precision-recall score: 0.69\n"
     ]
    },
    {
     "data": {
      "text/plain": [
       "Text(0.5, 1.0, '2-class Precision-Recall curve: AP=0.69')"
      ]
     },
     "execution_count": 51,
     "metadata": {},
     "output_type": "execute_result"
    },
    {
     "data": {
      "image/png": "[encoded data removed]",
      "text/plain": [
       "<Figure size 432x288 with 1 Axes>"
      ]
     },
     "metadata": {
      "needs_background": "light"
     },
     "output_type": "display_data"
    }
   ],
   "source": [
    "from sklearn.naive_bayes import BernoulliNB\n",
    "bnb = BernoulliNB()\n",
    "bnb.fit(X_train, y_train)\n",
    "bnb_pca_predictions = bnb.predict(X_test)\n",
    "\n",
    "average_precision = average_precision_score(y_test, bnb_pca_predictions)\n",
    "\n",
    "print('Average precision-recall score: {0:0.2f}'.format(\n",
    "      average_precision))\n",
    "disp = plot_precision_recall_curve(bnb, X_test, y_test)\n",
    "disp.ax_.set_title('2-class Precision-Recall curve: '\n",
    "                   'AP={0:0.2f}'.format(average_precision))"
   ]
  },
  {
   "cell_type": "code",
   "execution_count": 52,
   "metadata": {},
   "outputs": [
    {
     "name": "stdout",
     "output_type": "stream",
     "text": [
      "Confusion Matrix :\n",
      "[[ 7  5]\n",
      " [ 3 13]]\n",
      "Accuracy Score :0.7142857142857143\n",
      "Report : \n",
      "              precision    recall  f1-score   support\n",
      "\n",
      "           0       0.70      0.58      0.64        12\n",
      "           1       0.72      0.81      0.76        16\n",
      "\n",
      "    accuracy                           0.71        28\n",
      "   macro avg       0.71      0.70      0.70        28\n",
      "weighted avg       0.71      0.71      0.71        28\n",
      "\n"
     ]
    }
   ],
   "source": [
    "results = confusion_matrix(y_test, bnb_pca_predictions) \n",
    "  \n",
    "print('Confusion Matrix :')\n",
    "print(results) \n",
    "print('Accuracy Score :'+str(accuracy_score(y_test,bnb_pca_predictions)))\n",
    "print('Report : ')\n",
    "print(classification_report(y_test,bnb_pca_predictions))"
   ]
  },
  {
   "cell_type": "code",
   "execution_count": 53,
   "metadata": {},
   "outputs": [
    {
     "name": "stdout",
     "output_type": "stream",
     "text": [
      "Average precision-recall score: 0.59\n"
     ]
    },
    {
     "name": "stderr",
     "output_type": "stream",
     "text": [
      "/opt/conda/lib/python3.7/site-packages/sklearn/neural_network/_multilayer_perceptron.py:500: ConvergenceWarning: lbfgs failed to converge (status=2):\n",
      "ABNORMAL_TERMINATION_IN_LNSRCH.\n",
      "\n",
      "Increase the number of iterations (max_iter) or scale the data as shown in:\n",
      "    https://scikit-learn.org/stable/modules/preprocessing.html\n",
      "  self.n_iter_ = _check_optimize_result(\"lbfgs\", opt_res, self.max_iter)\n"
     ]
    },
    {
     "data": {
      "text/plain": [
       "Text(0.5, 1.0, '2-class Precision-Recall curve: AP=0.59')"
      ]
     },
     "execution_count": 53,
     "metadata": {},
     "output_type": "execute_result"
    },
    {
     "data": {
      "image/png": "[encoded data removed]",
      "text/plain": [
       "<Figure size 432x288 with 1 Axes>"
      ]
     },
     "metadata": {
      "needs_background": "light"
     },
     "output_type": "display_data"
    }
   ],
   "source": [
    "from sklearn.neural_network import MLPClassifier\n",
    "nn = MLPClassifier(solver='lbfgs', alpha=1e-5,hidden_layer_sizes=(5, 2), random_state=1)\n",
    "nn.fit(X_train, y_train)\n",
    "nn_pca_predictions = nn.predict(X_test)\n",
    "\n",
    "average_precision = average_precision_score(y_test, nn_pca_predictions)\n",
    "\n",
    "print('Average precision-recall score: {0:0.2f}'.format(\n",
    "      average_precision))\n",
    "disp = plot_precision_recall_curve(nn, X_test, y_test)\n",
    "disp.ax_.set_title('2-class Precision-Recall curve: '\n",
    "                   'AP={0:0.2f}'.format(average_precision))"
   ]
  },
  {
   "cell_type": "code",
   "execution_count": 54,
   "metadata": {},
   "outputs": [
    {
     "name": "stdout",
     "output_type": "stream",
     "text": [
      "Confusion Matrix :\n",
      "[[ 1 11]\n",
      " [ 0 16]]\n",
      "Accuracy Score :0.6071428571428571\n",
      "Report : \n",
      "              precision    recall  f1-score   support\n",
      "\n",
      "           0       1.00      0.08      0.15        12\n",
      "           1       0.59      1.00      0.74        16\n",
      "\n",
      "    accuracy                           0.61        28\n",
      "   macro avg       0.80      0.54      0.45        28\n",
      "weighted avg       0.77      0.61      0.49        28\n",
      "\n"
     ]
    }
   ],
   "source": [
    "results = confusion_matrix(y_test, nn_pca_predictions) \n",
    "  \n",
    "print('Confusion Matrix :')\n",
    "print(results) \n",
    "print('Accuracy Score :'+str(accuracy_score(y_test,nn_pca_predictions)))\n",
    "print('Report : ')\n",
    "print(classification_report(y_test,nn_pca_predictions))"
   ]
  },
  {
   "cell_type": "code",
   "execution_count": null,
   "metadata": {},
   "outputs": [],
   "source": []
  }
 ],
 "metadata": {
  "kernelspec": {
   "display_name": "Python 3",
   "language": "python",
   "name": "python3"
  },
  "language_info": {
   "codemirror_mode": {
    "name": "ipython",
    "version": 3
   },
   "file_extension": ".py",
   "mimetype": "text/x-python",
   "name": "python",
   "nbconvert_exporter": "python",
   "pygments_lexer": "ipython3",
   "version": "3.7.0"
  }
 },
 "nbformat": 4,
 "nbformat_minor": 4
}
